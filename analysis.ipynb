{
 "cells": [
  {
   "cell_type": "code",
   "execution_count": 1,
   "id": "613b89d7",
   "metadata": {
    "_cell_guid": "b1076dfc-b9ad-4769-8c92-a6c4dae69d19",
    "_uuid": "8f2839f25d086af736a60e9eeb907d3b93b6e0e5",
    "execution": {
     "iopub.execute_input": "2023-02-26T16:59:49.777655Z",
     "iopub.status.busy": "2023-02-26T16:59:49.777041Z",
     "iopub.status.idle": "2023-02-26T16:59:51.250942Z",
     "shell.execute_reply": "2023-02-26T16:59:51.249014Z"
    },
    "papermill": {
     "duration": 1.484743,
     "end_time": "2023-02-26T16:59:51.255675",
     "exception": false,
     "start_time": "2023-02-26T16:59:49.770932",
     "status": "completed"
    },
    "tags": []
   },
   "outputs": [
    {
     "name": "stdout",
     "output_type": "stream",
     "text": [
      "/kaggle/input/nhis-00002/nhis_00002.csv\n"
     ]
    }
   ],
   "source": [
    "# This Python 3 environment comes with many helpful analytics libraries installed\n",
    "# It is defined by the kaggle/python Docker image: https://github.com/kaggle/docker-python\n",
    "# For example, here's several helpful packages to load\n",
    "\n",
    "import numpy as np\n",
    "import pandas as pd\n",
    "pd.options.mode.chained_assignment = None  # default='warn'\n",
    "import matplotlib.pyplot as plt\n",
    "\n",
    "import xgboost as xgb\n",
    "from xgboost import plot_importance\n",
    "\n",
    "# Input data files are available in the read-only \"../input/\" directory\n",
    "# For example, running this (by clicking run or pressing Shift+Enter) will list all files under the input directory\n",
    "\n",
    "import os\n",
    "for dirname, _, filenames in os.walk('/kaggle/input'):\n",
    "    for filename in filenames:\n",
    "        print(os.path.join(dirname, filename))\n",
    "\n",
    "# You can write up to 20GB to the current directory (/kaggle/working/) that gets preserved as output when you create a version using \"Save & Run All\" \n",
    "# You can also write temporary files to /kaggle/temp/, but they won't be saved outside of the current session"
   ]
  },
  {
   "cell_type": "code",
   "execution_count": 2,
   "id": "987b8c83",
   "metadata": {
    "execution": {
     "iopub.execute_input": "2023-02-26T16:59:51.265029Z",
     "iopub.status.busy": "2023-02-26T16:59:51.264515Z",
     "iopub.status.idle": "2023-02-26T16:59:52.127541Z",
     "shell.execute_reply": "2023-02-26T16:59:52.125831Z"
    },
    "papermill": {
     "duration": 0.87239,
     "end_time": "2023-02-26T16:59:52.131338",
     "exception": false,
     "start_time": "2023-02-26T16:59:51.258948",
     "status": "completed"
    },
    "tags": []
   },
   "outputs": [
    {
     "data": {
      "text/plain": [
       "pandas.core.frame.DataFrame"
      ]
     },
     "execution_count": 2,
     "metadata": {},
     "output_type": "execute_result"
    }
   ],
   "source": [
    "ds = pd.read_csv(\"/kaggle/input/nhis-00002/nhis_00002.csv\")\n",
    "type(ds)"
   ]
  },
  {
   "cell_type": "code",
   "execution_count": 3,
   "id": "2916bec2",
   "metadata": {
    "execution": {
     "iopub.execute_input": "2023-02-26T16:59:52.139618Z",
     "iopub.status.busy": "2023-02-26T16:59:52.139172Z",
     "iopub.status.idle": "2023-02-26T16:59:52.188761Z",
     "shell.execute_reply": "2023-02-26T16:59:52.186800Z"
    },
    "papermill": {
     "duration": 0.058194,
     "end_time": "2023-02-26T16:59:52.192513",
     "exception": false,
     "start_time": "2023-02-26T16:59:52.134319",
     "status": "completed"
    },
    "tags": []
   },
   "outputs": [
    {
     "name": "stdout",
     "output_type": "stream",
     "text": [
      "75101\n"
     ]
    },
    {
     "data": {
      "text/html": [
       "<div>\n",
       "<style scoped>\n",
       "    .dataframe tbody tr th:only-of-type {\n",
       "        vertical-align: middle;\n",
       "    }\n",
       "\n",
       "    .dataframe tbody tr th {\n",
       "        vertical-align: top;\n",
       "    }\n",
       "\n",
       "    .dataframe thead th {\n",
       "        text-align: right;\n",
       "    }\n",
       "</style>\n",
       "<table border=\"1\" class=\"dataframe\">\n",
       "  <thead>\n",
       "    <tr style=\"text-align: right;\">\n",
       "      <th></th>\n",
       "      <th>YEAR</th>\n",
       "      <th>SERIAL</th>\n",
       "      <th>STRATA</th>\n",
       "      <th>PSU</th>\n",
       "      <th>NHISHID</th>\n",
       "      <th>PERNUM</th>\n",
       "      <th>NHISPID</th>\n",
       "      <th>HHX</th>\n",
       "      <th>SAMPWEIGHT</th>\n",
       "      <th>LONGWEIGHT</th>\n",
       "      <th>...</th>\n",
       "      <th>HEARTATTEV</th>\n",
       "      <th>LEARNDEV</th>\n",
       "      <th>RETEV</th>\n",
       "      <th>DIABETICAGE</th>\n",
       "      <th>SPEDEV</th>\n",
       "      <th>AEFFORT</th>\n",
       "      <th>ASAD</th>\n",
       "      <th>AWORTHLESS</th>\n",
       "      <th>SATISFIED</th>\n",
       "      <th>SATSCORE</th>\n",
       "    </tr>\n",
       "  </thead>\n",
       "  <tbody>\n",
       "    <tr>\n",
       "      <th>0</th>\n",
       "      <td>2020</td>\n",
       "      <td>1</td>\n",
       "      <td>150</td>\n",
       "      <td>25</td>\n",
       "      <td>0002020H000002</td>\n",
       "      <td>1</td>\n",
       "      <td>0002020H00000210</td>\n",
       "      <td>H000002</td>\n",
       "      <td>5946.002</td>\n",
       "      <td>17605.50</td>\n",
       "      <td>...</td>\n",
       "      <td>1</td>\n",
       "      <td>0</td>\n",
       "      <td>0</td>\n",
       "      <td>96</td>\n",
       "      <td>0</td>\n",
       "      <td>NaN</td>\n",
       "      <td>NaN</td>\n",
       "      <td>NaN</td>\n",
       "      <td>NaN</td>\n",
       "      <td>NaN</td>\n",
       "    </tr>\n",
       "    <tr>\n",
       "      <th>1</th>\n",
       "      <td>2020</td>\n",
       "      <td>2</td>\n",
       "      <td>111</td>\n",
       "      <td>10</td>\n",
       "      <td>0002020H000003</td>\n",
       "      <td>1</td>\n",
       "      <td>0002020H00000310</td>\n",
       "      <td>H000003</td>\n",
       "      <td>6288.726</td>\n",
       "      <td>0.00</td>\n",
       "      <td>...</td>\n",
       "      <td>1</td>\n",
       "      <td>0</td>\n",
       "      <td>0</td>\n",
       "      <td>96</td>\n",
       "      <td>0</td>\n",
       "      <td>NaN</td>\n",
       "      <td>NaN</td>\n",
       "      <td>NaN</td>\n",
       "      <td>NaN</td>\n",
       "      <td>NaN</td>\n",
       "    </tr>\n",
       "    <tr>\n",
       "      <th>2</th>\n",
       "      <td>2020</td>\n",
       "      <td>3</td>\n",
       "      <td>133</td>\n",
       "      <td>3</td>\n",
       "      <td>0002020H000004</td>\n",
       "      <td>1</td>\n",
       "      <td>0002020H00000410</td>\n",
       "      <td>H000004</td>\n",
       "      <td>6083.271</td>\n",
       "      <td>0.00</td>\n",
       "      <td>...</td>\n",
       "      <td>1</td>\n",
       "      <td>0</td>\n",
       "      <td>0</td>\n",
       "      <td>96</td>\n",
       "      <td>0</td>\n",
       "      <td>NaN</td>\n",
       "      <td>NaN</td>\n",
       "      <td>NaN</td>\n",
       "      <td>NaN</td>\n",
       "      <td>NaN</td>\n",
       "    </tr>\n",
       "    <tr>\n",
       "      <th>3</th>\n",
       "      <td>2020</td>\n",
       "      <td>4</td>\n",
       "      <td>139</td>\n",
       "      <td>45</td>\n",
       "      <td>0002020H000007</td>\n",
       "      <td>1</td>\n",
       "      <td>0002020H00000710</td>\n",
       "      <td>H000007</td>\n",
       "      <td>11306.962</td>\n",
       "      <td>0.00</td>\n",
       "      <td>...</td>\n",
       "      <td>1</td>\n",
       "      <td>0</td>\n",
       "      <td>0</td>\n",
       "      <td>53</td>\n",
       "      <td>0</td>\n",
       "      <td>NaN</td>\n",
       "      <td>NaN</td>\n",
       "      <td>NaN</td>\n",
       "      <td>NaN</td>\n",
       "      <td>NaN</td>\n",
       "    </tr>\n",
       "    <tr>\n",
       "      <th>4</th>\n",
       "      <td>2020</td>\n",
       "      <td>5</td>\n",
       "      <td>130</td>\n",
       "      <td>21</td>\n",
       "      <td>0002020H000009</td>\n",
       "      <td>1</td>\n",
       "      <td>0002020H00000910</td>\n",
       "      <td>H000009</td>\n",
       "      <td>6471.818</td>\n",
       "      <td>19317.18</td>\n",
       "      <td>...</td>\n",
       "      <td>1</td>\n",
       "      <td>0</td>\n",
       "      <td>0</td>\n",
       "      <td>96</td>\n",
       "      <td>0</td>\n",
       "      <td>NaN</td>\n",
       "      <td>NaN</td>\n",
       "      <td>NaN</td>\n",
       "      <td>NaN</td>\n",
       "      <td>NaN</td>\n",
       "    </tr>\n",
       "  </tbody>\n",
       "</table>\n",
       "<p>5 rows × 56 columns</p>\n",
       "</div>"
      ],
      "text/plain": [
       "   YEAR  SERIAL  STRATA  PSU         NHISHID  PERNUM           NHISPID  \\\n",
       "0  2020       1     150   25  0002020H000002       1  0002020H00000210   \n",
       "1  2020       2     111   10  0002020H000003       1  0002020H00000310   \n",
       "2  2020       3     133    3  0002020H000004       1  0002020H00000410   \n",
       "3  2020       4     139   45  0002020H000007       1  0002020H00000710   \n",
       "4  2020       5     130   21  0002020H000009       1  0002020H00000910   \n",
       "\n",
       "       HHX  SAMPWEIGHT  LONGWEIGHT  ...  HEARTATTEV  LEARNDEV  RETEV  \\\n",
       "0  H000002    5946.002    17605.50  ...           1         0      0   \n",
       "1  H000003    6288.726        0.00  ...           1         0      0   \n",
       "2  H000004    6083.271        0.00  ...           1         0      0   \n",
       "3  H000007   11306.962        0.00  ...           1         0      0   \n",
       "4  H000009    6471.818    19317.18  ...           1         0      0   \n",
       "\n",
       "   DIABETICAGE  SPEDEV  AEFFORT  ASAD  AWORTHLESS  SATISFIED  SATSCORE  \n",
       "0           96       0      NaN   NaN         NaN        NaN       NaN  \n",
       "1           96       0      NaN   NaN         NaN        NaN       NaN  \n",
       "2           96       0      NaN   NaN         NaN        NaN       NaN  \n",
       "3           53       0      NaN   NaN         NaN        NaN       NaN  \n",
       "4           96       0      NaN   NaN         NaN        NaN       NaN  \n",
       "\n",
       "[5 rows x 56 columns]"
      ]
     },
     "execution_count": 3,
     "metadata": {},
     "output_type": "execute_result"
    }
   ],
   "source": [
    "ds_len = len(ds)\n",
    "print(ds_len)\n",
    "ds.head()"
   ]
  },
  {
   "cell_type": "code",
   "execution_count": 4,
   "id": "5a6b9c31",
   "metadata": {
    "execution": {
     "iopub.execute_input": "2023-02-26T16:59:52.202309Z",
     "iopub.status.busy": "2023-02-26T16:59:52.201760Z",
     "iopub.status.idle": "2023-02-26T16:59:52.583216Z",
     "shell.execute_reply": "2023-02-26T16:59:52.581739Z"
    },
    "papermill": {
     "duration": 0.390556,
     "end_time": "2023-02-26T16:59:52.586648",
     "exception": false,
     "start_time": "2023-02-26T16:59:52.196092",
     "status": "completed"
    },
    "tags": []
   },
   "outputs": [
    {
     "data": {
      "text/plain": [
       "Text(0.5, 1.0, 'Race')"
      ]
     },
     "execution_count": 4,
     "metadata": {},
     "output_type": "execute_result"
    },
    {
     "data": {
      "image/png": "[encoded data removed]",
      "text/plain": [
       "<Figure size 640x480 with 1 Axes>"
      ]
     },
     "metadata": {},
     "output_type": "display_data"
    }
   ],
   "source": [
    "code_to_race = {\n",
    "    100: 'White only',\n",
    "    200: 'Black/African American only',\n",
    "    300: 'American Indian/Alaska Native only',\n",
    "    400: 'Asian only',\n",
    "    510: 'Other Race and Multiple Race',\n",
    "    542: 'American Indian/Alaska Native and Any Other Race',\n",
    "    997: 'Unknown-Refused',\n",
    "    998: 'Unknown-Not ascertained',\n",
    "    999: \"Unknown-Don't Know\"\n",
    "}\n",
    "\n",
    "counts = ds['RACENEW'].value_counts()\n",
    "labels = [code_to_race[code] for code in counts.index]\n",
    "\n",
    "plt.pie(counts, startangle=90, autopct='')\n",
    "plt.legend(loc=\"lower left\", bbox_to_anchor=(0.9, 0.5), ncol=1, fontsize=10, \n",
    "           labels=['{} - {:.1f}%'.format(l, c/sum(counts)*100) for l, c in zip(labels, counts)])\n",
    "plt.title(\"Race\", size=20)"
   ]
  }
 ],
 "metadata": {
  "kernelspec": {
   "display_name": "Python 3",
   "language": "python",
   "name": "python3"
  },
  "language_info": {
   "codemirror_mode": {
    "name": "ipython",
    "version": 3
   },
   "file_extension": ".py",
   "mimetype": "text/x-python",
   "name": "python",
   "nbconvert_exporter": "python",
   "pygments_lexer": "ipython3",
   "version": "3.7.12"
  },
  "papermill": {
   "default_parameters": {},
   "duration": 15.957934,
   "end_time": "2023-02-26T16:59:53.718664",
   "environment_variables": {},
   "exception": null,
   "input_path": "__notebook__.ipynb",
   "output_path": "__notebook__.ipynb",
   "parameters": {},
   "start_time": "2023-02-26T16:59:37.760730",
   "version": "2.4.0"
  }
 },
 "nbformat": 4,
 "nbformat_minor": 5
}
